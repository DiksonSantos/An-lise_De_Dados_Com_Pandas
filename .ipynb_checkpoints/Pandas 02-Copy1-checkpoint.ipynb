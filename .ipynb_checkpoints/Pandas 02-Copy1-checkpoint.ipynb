{
 "cells": [
  {
   "cell_type": "markdown",
   "metadata": {},
   "source": [
    "# pandas e csv\n",
    "\n",
    "## Resumo\n",
    "\n",
    "Quase sempre quando formos \"ler\" um arquivo csv, vamos usar o pandas. É prático e bem eficiente.\n",
    "\n",
    "## Funcionamento"
   ]
  },
  {
   "cell_type": "raw",
   "metadata": {},
   "source": [
    "Forma mais básica: (muitas vezes não usaremos a forma mais básica)\n",
    "dataframe = pd.read_csv(arquivo_com_extensao)"
   ]
  },
  {
   "cell_type": "markdown",
   "metadata": {},
   "source": [
    "- Vamos ler um arquivo real, com a Base de Dados de Vendas da Empresa \"Contoso\""
   ]
  },
  {
   "cell_type": "code",
   "execution_count": 1,
   "metadata": {
    "ExecuteTime": {
     "end_time": "2021-09-25T10:50:19.447247Z",
     "start_time": "2021-09-25T10:50:19.083329Z"
    }
   },
   "outputs": [],
   "source": [
    "import pandas as pd\n"
   ]
  },
  {
   "cell_type": "code",
   "execution_count": 4,
   "metadata": {
    "ExecuteTime": {
     "end_time": "2021-09-25T10:51:17.204792Z",
     "start_time": "2021-09-25T10:51:17.160306Z"
    }
   },
   "outputs": [
    {
     "data": {
      "text/html": [
       "<div>\n",
       "<style scoped>\n",
       "    .dataframe tbody tr th:only-of-type {\n",
       "        vertical-align: middle;\n",
       "    }\n",
       "\n",
       "    .dataframe tbody tr th {\n",
       "        vertical-align: top;\n",
       "    }\n",
       "\n",
       "    .dataframe thead th {\n",
       "        text-align: right;\n",
       "    }\n",
       "</style>\n",
       "<table border=\"1\" class=\"dataframe\">\n",
       "  <thead>\n",
       "    <tr style=\"text-align: right;\">\n",
       "      <th></th>\n",
       "      <th></th>\n",
       "      <th>Nome da Marca;Tipo;Custo Unitario;Preco Unitario;ID Produto;Categoria</th>\n",
       "    </tr>\n",
       "  </thead>\n",
       "  <tbody>\n",
       "    <tr>\n",
       "      <th>Contoso;Econômico;10</th>\n",
       "      <th>69;20</th>\n",
       "      <td>96;873;Acessório para Computador</td>\n",
       "    </tr>\n",
       "    <tr>\n",
       "      <th rowspan=\"4\" valign=\"top\">Contoso;Econômico;6</th>\n",
       "      <th>63;13;879;Acessório para Computador</th>\n",
       "      <td>NaN</td>\n",
       "    </tr>\n",
       "    <tr>\n",
       "      <th>63;13;880;Acessório para Computador</th>\n",
       "      <td>NaN</td>\n",
       "    </tr>\n",
       "    <tr>\n",
       "      <th>63;13;881;Acessório para Computador</th>\n",
       "      <td>NaN</td>\n",
       "    </tr>\n",
       "    <tr>\n",
       "      <th>63;13;882;Acessório para Computador</th>\n",
       "      <td>NaN</td>\n",
       "    </tr>\n",
       "    <tr>\n",
       "      <th>...</th>\n",
       "      <th>...</th>\n",
       "      <td>...</td>\n",
       "    </tr>\n",
       "    <tr>\n",
       "      <th>Southridge Video;Regular;82</th>\n",
       "      <th>77;179</th>\n",
       "      <td>99;1602;Filme DVD</td>\n",
       "    </tr>\n",
       "    <tr>\n",
       "      <th>Southridge Video;Regular;73</th>\n",
       "      <th>57;159</th>\n",
       "      <td>99;1606;Filme DVD</td>\n",
       "    </tr>\n",
       "    <tr>\n",
       "      <th>Southridge Video;Regular;82</th>\n",
       "      <th>77;179</th>\n",
       "      <td>99;1607;Filme DVD</td>\n",
       "    </tr>\n",
       "    <tr>\n",
       "      <th>Southridge Video;Regular;73</th>\n",
       "      <th>57;159</th>\n",
       "      <td>99;1611;Filme DVD</td>\n",
       "    </tr>\n",
       "    <tr>\n",
       "      <th>Southridge Video;Regular;82</th>\n",
       "      <th>77;179</th>\n",
       "      <td>99;1612;Filme DVD</td>\n",
       "    </tr>\n",
       "  </tbody>\n",
       "</table>\n",
       "<p>1690 rows × 1 columns</p>\n",
       "</div>"
      ],
      "text/plain": [
       "                                                                Nome da Marca;Tipo;Custo Unitario;Preco Unitario;ID Produto;Categoria\n",
       "Contoso;Econômico;10        69;20                                                 96;873;Acessório para Computador                   \n",
       "Contoso;Econômico;6         63;13;879;Acessório para Computador                                                NaN                   \n",
       "                            63;13;880;Acessório para Computador                                                NaN                   \n",
       "                            63;13;881;Acessório para Computador                                                NaN                   \n",
       "                            63;13;882;Acessório para Computador                                                NaN                   \n",
       "...                                                                                                            ...                   \n",
       "Southridge Video;Regular;82 77;179                                                               99;1602;Filme DVD                   \n",
       "Southridge Video;Regular;73 57;159                                                               99;1606;Filme DVD                   \n",
       "Southridge Video;Regular;82 77;179                                                               99;1607;Filme DVD                   \n",
       "Southridge Video;Regular;73 57;159                                                               99;1611;Filme DVD                   \n",
       "Southridge Video;Regular;82 77;179                                                               99;1612;Filme DVD                   \n",
       "\n",
       "[1690 rows x 1 columns]"
      ]
     },
     "metadata": {},
     "output_type": "display_data"
    }
   ],
   "source": [
    "# orma mais básica: (muitas vezes não usaremos a forma mais básica)\n",
    "vendas_df = pd.read_csv('Contoso_Cadastro Produtos.csv')\n",
    "\n",
    "# print(vendas_df)\n",
    "display(vendas_df)\n",
    "# vendas_df"
   ]
  },
  {
   "cell_type": "code",
   "execution_count": null,
   "metadata": {},
   "outputs": [],
   "source": []
  }
 ],
 "metadata": {
  "kernelspec": {
   "display_name": "Python 3 (ipykernel)",
   "language": "python",
   "name": "python3"
  },
  "language_info": {
   "codemirror_mode": {
    "name": "ipython",
    "version": 3
   },
   "file_extension": ".py",
   "mimetype": "text/x-python",
   "name": "python",
   "nbconvert_exporter": "python",
   "pygments_lexer": "ipython3",
   "version": "3.9.2"
  }
 },
 "nbformat": 4,
 "nbformat_minor": 4
}
