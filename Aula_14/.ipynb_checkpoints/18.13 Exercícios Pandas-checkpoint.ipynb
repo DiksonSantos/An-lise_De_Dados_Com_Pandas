{
 "cells": [
  {
   "cell_type": "markdown",
   "metadata": {},
   "source": [
    "# Exercício - Mini Projeto de Análise de Dados\n",
    "\n",
    "Vamos fazer um exercício completo de pandas para um miniprojeto de análise de dados.\n",
    "\n",
    "Esse exercício vai obrigar a gente a usar boa parte dos conhecimento de pandas e até de outros módulos que já aprendemos ao longo do curso.\n",
    "\n",
    "### O que temos?\n",
    "\n",
    "Temos os dados de 2019 de uma empresa de prestação de serviços. \n",
    "\n",
    "- CadastroFuncionarios\n",
    "- CadastroClientes\n",
    "- BaseServiçosPrestados\n",
    "\n",
    "Obs1: Para ler arquivos csv, temos o read_csv<br>\n",
    "Obs2: Para ler arquivos xlsx (arquivos em excel normais, que não são padrão csv), temos o read_excel\n",
    "\n",
    "### O que queremos saber/fazer?\n",
    "\n",
    "1. Valor Total da Folha Salarial -> Qual foi o gasto total com salários de funcionários pela empresa? <br>\n",
    "    Sugestão: calcule o salário total de cada funcionário, salário + benefícios + impostos, depois some todos os salários\n",
    "    \n",
    "    \n",
    "2. Qual foi o faturamento da empresa?<br>\n",
    "    Sugestão: calcule o faturamento total de cada serviço e depois some o faturamento de todos\n",
    "    \n",
    "    \n",
    "3. Qual o % de funcionários que já fechou algum contrato?<br>\n",
    "    Sugestão: na base de serviços temos o funcionário que fechou cada serviço. Mas nem todos os funcionários que a empresa tem já fecharam algum serviço.<br>\n",
    "    . Na base de funcionários temos uma lista com todos os funcionários<br>\n",
    "    . Queremos calcular Qtde_Funcionarios_Fecharam_Serviço / Qtde_Funcionários_Totais<br>\n",
    "    . Para calcular a qtde de funcionários que fecharam algum serviço, use a base de serviços e conte quantos funcionários tem ali. Mas lembre-se, cada funcionário só pode ser contado uma única vez.<br><br>\n",
    "    Dica: se você aplicar o método .unique() em uma variável que é apenas 1 coluna de um dataframe, ele vai excluir todos os valores duplicados daquela coluna.<br>\n",
    "    Ex: unicos_colunaA = dataframe['colunaA'].unique() te dá como resposta uma lista com todos os itens da colunaA aparecendo uma única vez. Todos os valores repetidos da colunaA são excluidos da variável unicos_colunaA \n",
    "    \n",
    "    \n",
    "4. Calcule o total de contratos que cada área da empresa já fechou\n",
    "\n",
    "\n",
    "5. Calcule o total de funcionários por área\n",
    "\n",
    "\n",
    "6. Qual o ticket médio mensal (faturamento médio mensal) dos contratos?<br>\n",
    "    Dica: .mean() calcula a média -> exemplo: media_colunaA = dataframe['colunaA'].mean()\n",
    "\n",
    "Obs: Lembrando as opções mais usuais de encoding:<br>\n",
    "encoding='latin1', encoding='ISO-8859-1', encoding='utf-8' ou então encoding='cp1252'\n",
    "\n",
    "Observação Importante: Se o seu código der um erro na hora de importar os arquivos:<br>\n",
    "- CadastroClientes.csv\n",
    "- CadastroFuncionarios.csv\n",
    "\n",
    "Use separador \";\" (ponto e vírgula) para resolver"
   ]
  },
  {
   "cell_type": "code",
   "execution_count": 19,
   "metadata": {
    "ExecuteTime": {
     "end_time": "2021-10-04T04:42:58.554587Z",
     "start_time": "2021-10-04T04:42:58.546771Z"
    }
   },
   "outputs": [],
   "source": [
    "\"\"\"CTRL /   -> Comenta várias linhas de uma vez\"\"\"\n",
    "import pandas as pd\n",
    "import matplotlib.pyplot as plt\n",
    "\n",
    "#Este CSV esta com os preços no padrão BR (usando virgula como separador)\n",
    "#..então temos que usar 'Decimal' para apontar isso.\n",
    "funcionarios_df = pd.read_csv('CadastroFuncionarios.csv', sep=';', decimal=',')\n",
    "\n",
    "# # Agora onde haviam virgulas existem pontos no CSV\n",
    "#display(funcionarios_df)"
   ]
  },
  {
   "cell_type": "code",
   "execution_count": 22,
   "metadata": {
    "ExecuteTime": {
     "end_time": "2021-10-04T05:11:25.142992Z",
     "start_time": "2021-10-04T05:11:25.074504Z"
    }
   },
   "outputs": [
    {
     "data": {
      "text/html": [
       "<div>\n",
       "<style scoped>\n",
       "    .dataframe tbody tr th:only-of-type {\n",
       "        vertical-align: middle;\n",
       "    }\n",
       "\n",
       "    .dataframe tbody tr th {\n",
       "        vertical-align: top;\n",
       "    }\n",
       "\n",
       "    .dataframe thead th {\n",
       "        text-align: right;\n",
       "    }\n",
       "</style>\n",
       "<table border=\"1\" class=\"dataframe\">\n",
       "  <thead>\n",
       "    <tr style=\"text-align: right;\">\n",
       "      <th></th>\n",
       "      <th>ID Cliente</th>\n",
       "      <th>Cliente</th>\n",
       "      <th>Valor Contrato Mensal</th>\n",
       "    </tr>\n",
       "  </thead>\n",
       "  <tbody>\n",
       "    <tr>\n",
       "      <th>0</th>\n",
       "      <td>1</td>\n",
       "      <td>Teixeira Gonçalves</td>\n",
       "      <td>540</td>\n",
       "    </tr>\n",
       "    <tr>\n",
       "      <th>1</th>\n",
       "      <td>2</td>\n",
       "      <td>Souza Santos</td>\n",
       "      <td>1260</td>\n",
       "    </tr>\n",
       "    <tr>\n",
       "      <th>2</th>\n",
       "      <td>3</td>\n",
       "      <td>Emídio Alves</td>\n",
       "      <td>3195</td>\n",
       "    </tr>\n",
       "    <tr>\n",
       "      <th>3</th>\n",
       "      <td>4</td>\n",
       "      <td>Santos Costa</td>\n",
       "      <td>2520</td>\n",
       "    </tr>\n",
       "    <tr>\n",
       "      <th>4</th>\n",
       "      <td>5</td>\n",
       "      <td>Do Monteiro</td>\n",
       "      <td>3510</td>\n",
       "    </tr>\n",
       "    <tr>\n",
       "      <th>...</th>\n",
       "      <td>...</td>\n",
       "      <td>...</td>\n",
       "      <td>...</td>\n",
       "    </tr>\n",
       "    <tr>\n",
       "      <th>315</th>\n",
       "      <td>316</td>\n",
       "      <td>Manoel Costa</td>\n",
       "      <td>3690</td>\n",
       "    </tr>\n",
       "    <tr>\n",
       "      <th>316</th>\n",
       "      <td>317</td>\n",
       "      <td>Gomes Machado</td>\n",
       "      <td>2385</td>\n",
       "    </tr>\n",
       "    <tr>\n",
       "      <th>317</th>\n",
       "      <td>318</td>\n",
       "      <td>Alkindar Cardozo</td>\n",
       "      <td>3510</td>\n",
       "    </tr>\n",
       "    <tr>\n",
       "      <th>318</th>\n",
       "      <td>319</td>\n",
       "      <td>Pereira Fazenda</td>\n",
       "      <td>4185</td>\n",
       "    </tr>\n",
       "    <tr>\n",
       "      <th>319</th>\n",
       "      <td>320</td>\n",
       "      <td>Americo Damasceno</td>\n",
       "      <td>2430</td>\n",
       "    </tr>\n",
       "  </tbody>\n",
       "</table>\n",
       "<p>320 rows × 3 columns</p>\n",
       "</div>"
      ],
      "text/plain": [
       "     ID Cliente             Cliente  Valor Contrato Mensal\n",
       "0             1  Teixeira Gonçalves                    540\n",
       "1             2        Souza Santos                   1260\n",
       "2             3        Emídio Alves                   3195\n",
       "3             4        Santos Costa                   2520\n",
       "4             5         Do Monteiro                   3510\n",
       "..          ...                 ...                    ...\n",
       "315         316        Manoel Costa                   3690\n",
       "316         317       Gomes Machado                   2385\n",
       "317         318    Alkindar Cardozo                   3510\n",
       "318         319     Pereira Fazenda                   4185\n",
       "319         320   Americo Damasceno                   2430\n",
       "\n",
       "[320 rows x 3 columns]"
      ]
     },
     "metadata": {},
     "output_type": "display_data"
    }
   ],
   "source": [
    "\n",
    "# -> Decimal troca do o separador virgula por ponto EX: 3,2 p; 3.2\n",
    "#.. evitando erros na leitura do CSV\n",
    "\n",
    "fun_df = pd.read_csv('CadastroFuncionarios.csv', sep=';', decimal=',')\n",
    "Cod_Clien = pd.read_csv('CadastroClientes.csv', sep=';', decimal=',')\n",
    "Bas_Serv = pd.read_excel('BaseServiçosPrestados.xlsx')\n",
    "\n",
    "\n",
    "\n",
    "# Retirar Colunas 'Estado Civil' & 'Cargo' da Tab Funcionarios (AXIS=1 == Coluna 0 == Linha)\n",
    "fun_df = fun_df.drop(['Estado Civil', 'Cargo'], axis=1) \n",
    "\n",
    "#display(fun_df)\n",
    "display(Cod_Clien)\n",
    "#display(Bas_Serv)\n",
    "#print(Cod_Clien, Bas_Serv, fun_df)\n",
    "#print(fun_df['Salario Total'])"
   ]
  },
  {
   "cell_type": "markdown",
   "metadata": {},
   "source": [
    "### 1 - Folha Salarial"
   ]
  },
  {
   "cell_type": "code",
   "execution_count": 3,
   "metadata": {
    "ExecuteTime": {
     "end_time": "2021-10-04T04:35:11.501073Z",
     "start_time": "2021-10-04T04:35:11.493326Z"
    }
   },
   "outputs": [
    {
     "name": "stdout",
     "output_type": "stream",
     "text": [
      "Total da Folha Salarial mensal: 2,717,493.22R$\n"
     ]
    }
   ],
   "source": [
    "\n",
    "# Vamos mencionar o Nome de uma coluna Inexistente, assim ela será Criada no DF:\n",
    "\n",
    "# DEU PAU\n",
    "#fun_df['Salario_Total'] =  fun_df[['Salario Base', 'Impostos', 'Beneficios', 'VT', 'VR']].sum(axis=1)\n",
    "\n",
    "\n",
    "# FUNCIONOU\n",
    "fun_df['Salario_Total'] = fun_df.loc[:, 'Salario Base':'VR'].sum(axis=1)\n",
    "\n",
    "\n",
    "\n",
    "\n",
    "#display(fun_df['Salario_Total'].sum())\n",
    "res = fun_df['Salario_Total'].sum()\n",
    "print(f'Total da Folha Salarial mensal: {res:,}R$')"
   ]
  },
  {
   "cell_type": "code",
   "execution_count": 4,
   "metadata": {
    "ExecuteTime": {
     "end_time": "2021-10-04T04:35:11.511513Z",
     "start_time": "2021-10-04T04:35:11.503090Z"
    }
   },
   "outputs": [],
   "source": [
    "#display(Bas_Serv[['ID Cliente', 'Tempo Total de Contrato (Meses)']])\n",
    "#display(Cod_Clien)"
   ]
  },
  {
   "cell_type": "markdown",
   "metadata": {},
   "source": [
    "### 2 - Faturamento da empresa"
   ]
  },
  {
   "cell_type": "code",
   "execution_count": 5,
   "metadata": {
    "ExecuteTime": {
     "end_time": "2021-10-04T04:35:11.543266Z",
     "start_time": "2021-10-04T04:35:11.513593Z"
    }
   },
   "outputs": [
    {
     "data": {
      "text/html": [
       "<div>\n",
       "<style scoped>\n",
       "    .dataframe tbody tr th:only-of-type {\n",
       "        vertical-align: middle;\n",
       "    }\n",
       "\n",
       "    .dataframe tbody tr th {\n",
       "        vertical-align: top;\n",
       "    }\n",
       "\n",
       "    .dataframe thead th {\n",
       "        text-align: right;\n",
       "    }\n",
       "</style>\n",
       "<table border=\"1\" class=\"dataframe\">\n",
       "  <thead>\n",
       "    <tr style=\"text-align: right;\">\n",
       "      <th></th>\n",
       "      <th>ID Cliente</th>\n",
       "      <th>Tempo Total de Contrato (Meses)</th>\n",
       "      <th>Valor Contrato Mensal</th>\n",
       "      <th>Faturamento Total</th>\n",
       "    </tr>\n",
       "  </thead>\n",
       "  <tbody>\n",
       "    <tr>\n",
       "      <th>0</th>\n",
       "      <td>1</td>\n",
       "      <td>14</td>\n",
       "      <td>540</td>\n",
       "      <td>7560</td>\n",
       "    </tr>\n",
       "    <tr>\n",
       "      <th>1</th>\n",
       "      <td>2</td>\n",
       "      <td>12</td>\n",
       "      <td>1260</td>\n",
       "      <td>15120</td>\n",
       "    </tr>\n",
       "    <tr>\n",
       "      <th>2</th>\n",
       "      <td>4</td>\n",
       "      <td>14</td>\n",
       "      <td>2520</td>\n",
       "      <td>35280</td>\n",
       "    </tr>\n",
       "    <tr>\n",
       "      <th>3</th>\n",
       "      <td>5</td>\n",
       "      <td>8</td>\n",
       "      <td>3510</td>\n",
       "      <td>28080</td>\n",
       "    </tr>\n",
       "    <tr>\n",
       "      <th>4</th>\n",
       "      <td>6</td>\n",
       "      <td>8</td>\n",
       "      <td>2340</td>\n",
       "      <td>18720</td>\n",
       "    </tr>\n",
       "    <tr>\n",
       "      <th>...</th>\n",
       "      <td>...</td>\n",
       "      <td>...</td>\n",
       "      <td>...</td>\n",
       "      <td>...</td>\n",
       "    </tr>\n",
       "    <tr>\n",
       "      <th>232</th>\n",
       "      <td>315</td>\n",
       "      <td>4</td>\n",
       "      <td>1575</td>\n",
       "      <td>6300</td>\n",
       "    </tr>\n",
       "    <tr>\n",
       "      <th>233</th>\n",
       "      <td>316</td>\n",
       "      <td>8</td>\n",
       "      <td>3690</td>\n",
       "      <td>29520</td>\n",
       "    </tr>\n",
       "    <tr>\n",
       "      <th>234</th>\n",
       "      <td>317</td>\n",
       "      <td>6</td>\n",
       "      <td>2385</td>\n",
       "      <td>14310</td>\n",
       "    </tr>\n",
       "    <tr>\n",
       "      <th>235</th>\n",
       "      <td>319</td>\n",
       "      <td>14</td>\n",
       "      <td>4185</td>\n",
       "      <td>58590</td>\n",
       "    </tr>\n",
       "    <tr>\n",
       "      <th>236</th>\n",
       "      <td>320</td>\n",
       "      <td>12</td>\n",
       "      <td>2430</td>\n",
       "      <td>29160</td>\n",
       "    </tr>\n",
       "  </tbody>\n",
       "</table>\n",
       "<p>237 rows × 4 columns</p>\n",
       "</div>"
      ],
      "text/plain": [
       "     ID Cliente  Tempo Total de Contrato (Meses)  Valor Contrato Mensal  \\\n",
       "0             1                               14                    540   \n",
       "1             2                               12                   1260   \n",
       "2             4                               14                   2520   \n",
       "3             5                                8                   3510   \n",
       "4             6                                8                   2340   \n",
       "..          ...                              ...                    ...   \n",
       "232         315                                4                   1575   \n",
       "233         316                                8                   3690   \n",
       "234         317                                6                   2385   \n",
       "235         319                               14                   4185   \n",
       "236         320                               12                   2430   \n",
       "\n",
       "     Faturamento Total  \n",
       "0                 7560  \n",
       "1                15120  \n",
       "2                35280  \n",
       "3                28080  \n",
       "4                18720  \n",
       "..                 ...  \n",
       "232               6300  \n",
       "233              29520  \n",
       "234              14310  \n",
       "235              58590  \n",
       "236              29160  \n",
       "\n",
       "[237 rows x 4 columns]"
      ]
     },
     "metadata": {},
     "output_type": "display_data"
    },
    {
     "name": "stdout",
     "output_type": "stream",
     "text": [
      "Faturamento Total: 5,519,160R$\n"
     ]
    }
   ],
   "source": [
    "# on='ID Cliente' -> É a unica Coluna que vai ser igual nas Duas Tabelas\n",
    "faturamento_df = Bas_Serv[['ID Cliente', 'Tempo Total de Contrato (Meses)']].merge(Cod_Clien[['ID Cliente' ,'Valor Contrato Mensal']], on='ID Cliente')\n",
    "\n",
    "\n",
    "\n",
    "faturamento_df['Faturamento Total'] = faturamento_df['Tempo Total de Contrato (Meses)'] * faturamento_df['Valor Contrato Mensal']\n",
    "\n",
    "\n",
    "\n",
    "\n",
    "display(faturamento_df)\n",
    "soma_ = sum(faturamento_df['Faturamento Total'])\n",
    "print(f'Faturamento Total: {soma_:,}R$')"
   ]
  },
  {
   "cell_type": "markdown",
   "metadata": {},
   "source": [
    "### 3 - Percentual % de funcionários que já fechou algum contrato"
   ]
  },
  {
   "cell_type": "code",
   "execution_count": 6,
   "metadata": {
    "ExecuteTime": {
     "end_time": "2021-10-04T04:35:11.558173Z",
     "start_time": "2021-10-04T04:35:11.552179Z"
    }
   },
   "outputs": [
    {
     "name": "stdout",
     "output_type": "stream",
     "text": [
      "Total Funcionarios Fecharam Serv: 86.84%\n"
     ]
    }
   ],
   "source": [
    "import numpy as np\n",
    "#total_fun = sum(fun_df['ID Funcionário'])\n",
    "#print(total_fun)\n",
    "\n",
    "\n",
    "# MINHA SOLUÇÃO\n",
    "# Total de Funcionários:\n",
    "# tot = 0\n",
    "# for J in fun_df['ID Funcionário']:\n",
    "#     tot += 1\n",
    "# print('Tot Fun Cadastrados: ',tot)\n",
    "\n",
    "\n",
    "\n",
    "\n",
    "# METODO DO PROFESSOR (MELHOR):\n",
    "tot = qtde_funcionario_total = len(funcionarios_df['ID Funcionário'])\n",
    "\n",
    "\n",
    "\n",
    "\n",
    "# MINHA SOLUÇÃO:\n",
    "# serv = 0\n",
    "# for H in np.unique(Bas_Serv['ID Funcionário']):\n",
    "#     serv += 1\n",
    "# print('Tot Funcionarios Prestaram Serv: ',serv)\n",
    "\n",
    "#METODO DO PROFESSOR (MELHOR QUE O MEU)\n",
    "serv = qtde_funcionario_fecharamcontrato = len(Bas_Serv['ID Funcionário'].unique())\n",
    "print(f'Total Funcionarios Fecharam Serv: {serv/tot:.2%}')\n",
    "\n",
    "\n",
    "# MY WAY:\n",
    "#print(f'Percentual de Funcionários que Prestaram Serviços: {serv/tot:.2%}')                "
   ]
  },
  {
   "cell_type": "markdown",
   "metadata": {},
   "source": [
    "### 4 - Total de contratos que cada área da empresa fechou"
   ]
  },
  {
   "cell_type": "code",
   "execution_count": 20,
   "metadata": {
    "ExecuteTime": {
     "end_time": "2021-10-04T04:43:08.974882Z",
     "start_time": "2021-10-04T04:43:08.737940Z"
    }
   },
   "outputs": [
    {
     "data": {
      "text/html": [
       "<div>\n",
       "<style scoped>\n",
       "    .dataframe tbody tr th:only-of-type {\n",
       "        vertical-align: middle;\n",
       "    }\n",
       "\n",
       "    .dataframe tbody tr th {\n",
       "        vertical-align: top;\n",
       "    }\n",
       "\n",
       "    .dataframe thead th {\n",
       "        text-align: right;\n",
       "    }\n",
       "</style>\n",
       "<table border=\"1\" class=\"dataframe\">\n",
       "  <thead>\n",
       "    <tr style=\"text-align: right;\">\n",
       "      <th></th>\n",
       "      <th>ID Funcionário</th>\n",
       "      <th>Area</th>\n",
       "    </tr>\n",
       "  </thead>\n",
       "  <tbody>\n",
       "    <tr>\n",
       "      <th>0</th>\n",
       "      <td>67</td>\n",
       "      <td>Financeiro</td>\n",
       "    </tr>\n",
       "    <tr>\n",
       "      <th>1</th>\n",
       "      <td>67</td>\n",
       "      <td>Financeiro</td>\n",
       "    </tr>\n",
       "    <tr>\n",
       "      <th>2</th>\n",
       "      <td>67</td>\n",
       "      <td>Financeiro</td>\n",
       "    </tr>\n",
       "    <tr>\n",
       "      <th>3</th>\n",
       "      <td>67</td>\n",
       "      <td>Financeiro</td>\n",
       "    </tr>\n",
       "    <tr>\n",
       "      <th>4</th>\n",
       "      <td>17</td>\n",
       "      <td>Logística</td>\n",
       "    </tr>\n",
       "    <tr>\n",
       "      <th>...</th>\n",
       "      <td>...</td>\n",
       "      <td>...</td>\n",
       "    </tr>\n",
       "    <tr>\n",
       "      <th>232</th>\n",
       "      <td>25</td>\n",
       "      <td>Administrativo</td>\n",
       "    </tr>\n",
       "    <tr>\n",
       "      <th>233</th>\n",
       "      <td>79</td>\n",
       "      <td>Operações</td>\n",
       "    </tr>\n",
       "    <tr>\n",
       "      <th>234</th>\n",
       "      <td>99</td>\n",
       "      <td>Administrativo</td>\n",
       "    </tr>\n",
       "    <tr>\n",
       "      <th>235</th>\n",
       "      <td>14</td>\n",
       "      <td>Financeiro</td>\n",
       "    </tr>\n",
       "    <tr>\n",
       "      <th>236</th>\n",
       "      <td>72</td>\n",
       "      <td>Logística</td>\n",
       "    </tr>\n",
       "  </tbody>\n",
       "</table>\n",
       "<p>237 rows × 2 columns</p>\n",
       "</div>"
      ],
      "text/plain": [
       "     ID Funcionário            Area\n",
       "0                67      Financeiro\n",
       "1                67      Financeiro\n",
       "2                67      Financeiro\n",
       "3                67      Financeiro\n",
       "4                17       Logística\n",
       "..              ...             ...\n",
       "232              25  Administrativo\n",
       "233              79       Operações\n",
       "234              99  Administrativo\n",
       "235              14      Financeiro\n",
       "236              72       Logística\n",
       "\n",
       "[237 rows x 2 columns]"
      ]
     },
     "metadata": {},
     "output_type": "display_data"
    },
    {
     "data": {
      "text/plain": [
       "Administrativo    63\n",
       "Operações         48\n",
       "Comercial         44\n",
       "Financeiro        42\n",
       "Logística         40\n",
       "Name: Area, dtype: int64"
      ]
     },
     "metadata": {},
     "output_type": "display_data"
    },
    {
     "data": {
      "image/png": "[encoded data removed]",
      "text/plain": [
       "<Figure size 432x288 with 1 Axes>"
      ]
     },
     "metadata": {
      "needs_background": "light"
     },
     "output_type": "display_data"
    }
   ],
   "source": [
    "# recebe_informações.merge(Prove_Informações)\n",
    "\n",
    "# Tab Bas_Serv[Coluna ID].recebe(fun_df[colunaID...])\n",
    "contratos_area_df = Bas_Serv[['ID Funcionário']].merge(fun_df[['ID Funcionário', 'Area']], on='ID Funcionário')\n",
    "\n",
    "display(contratos_area_df)\n",
    "\n",
    "\n",
    "#VALUE_COUNTS -> CONTA QUANTAS VEZES QUANTIDADE DE OCORRENCIA DE UM NOME.\n",
    "quant = contratos_area_df['Area'].value_counts()\n",
    "display(quant)\n",
    "quant.plot(kind='bar')\n",
    "plt.show()"
   ]
  },
  {
   "cell_type": "markdown",
   "metadata": {},
   "source": [
    "### 5 - Total de funcionários por área"
   ]
  },
  {
   "cell_type": "code",
   "execution_count": 21,
   "metadata": {
    "ExecuteTime": {
     "end_time": "2021-10-04T04:43:14.959493Z",
     "start_time": "2021-10-04T04:43:14.769408Z"
    }
   },
   "outputs": [
    {
     "name": "stdout",
     "output_type": "stream",
     "text": [
      "Administrativo    26\n",
      "Comercial         26\n",
      "Operações         23\n",
      "Logística         21\n",
      "Financeiro        18\n",
      "Name: Area, dtype: int64\n"
     ]
    },
    {
     "data": {
      "image/png": "[encoded data removed]",
      "text/plain": [
       "<Figure size 432x288 with 1 Axes>"
      ]
     },
     "metadata": {
      "needs_background": "light"
     },
     "output_type": "display_data"
    }
   ],
   "source": [
    "# qtd = fun_df['ID Funcionário'].vaule_counts()\n",
    "# print(qtd)\n",
    "\n",
    "#workers = fun_df[['ID Funcionário', 'Nome Completo']]\n",
    "#print(workers['ID Funcionário'].value_counts())\n",
    "\n",
    "\n",
    "# Quantas vezes cada ocorrência aparece por linha:\n",
    "workers_area = fun_df['Area'].value_counts()\n",
    "print(workers_area)\n",
    "\n",
    "#workers_area.plot(kind='pie')\n",
    "workers_area.plot(kind='bar')\n",
    "plt.show()"
   ]
  },
  {
   "cell_type": "markdown",
   "metadata": {},
   "source": [
    "### 6 - Ticket Médio Mensal"
   ]
  },
  {
   "cell_type": "code",
   "execution_count": 28,
   "metadata": {
    "ExecuteTime": {
     "end_time": "2021-10-04T05:15:49.165644Z",
     "start_time": "2021-10-04T05:15:49.130859Z"
    }
   },
   "outputs": [
    {
     "data": {
      "text/plain": [
       "'Val Ticket Médio: 2,502.5625R$'"
      ]
     },
     "metadata": {},
     "output_type": "display_data"
    }
   ],
   "source": [
    "ticket_medio = Cod_Clien['Valor Contrato Mensal'].mean()\n",
    "display(f'Val Ticket Médio: {ticket_medio:,}R$')\n",
    "\n",
    "\n",
    "#print(Cod_Clien['Valor Contrato Mensal'])"
   ]
  },
  {
   "cell_type": "markdown",
   "metadata": {},
   "source": []
  }
 ],
 "metadata": {
  "kernelspec": {
   "display_name": "Python 3 (ipykernel)",
   "language": "python",
   "name": "python3"
  },
  "language_info": {
   "codemirror_mode": {
    "name": "ipython",
    "version": 3
   },
   "file_extension": ".py",
   "mimetype": "text/x-python",
   "name": "python",
   "nbconvert_exporter": "python",
   "pygments_lexer": "ipython3",
   "version": "3.9.2"
  }
 },
 "nbformat": 4,
 "nbformat_minor": 4
}
